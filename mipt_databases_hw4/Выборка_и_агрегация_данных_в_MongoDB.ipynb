{
  "cells": [
    {
      "cell_type": "markdown",
      "metadata": {
        "id": "LbOZ0b-MLYMG"
      },
      "source": [
        "# Выборка и агрегация данных в MongoDB\n",
        "\n",
        "###Цель домашней работы\n",
        "\n",
        "Закрепить на практике основные приемы работы с СУБД MongoDB, включая выборку, сортировку, объединение, агрегацию данных и передачу результатов выборки в программу на Python в целях аналитики и дальнейшей обработки."
      ]
    },
    {
      "cell_type": "markdown",
      "metadata": {
        "id": "VGMYMmFvEAQY"
      },
      "source": [
        "### Формулировка задания\n",
        "\n",
        "В этом задании вам предстоит выполнить несколько запросов к базе данных для получения выборок по условиям, а также воспользоваться фреймворком агрегации MongoDB для построения конвейера обработки данных.\n",
        "\n",
        "Максимальное количество баллов за выполнение домашней работы: 10."
      ]
    },
    {
      "cell_type": "markdown",
      "metadata": {
        "id": "3S2xr8EESZ8A"
      },
      "source": [
        "##Что нужно использовать в работе над заданием\n",
        "\n",
        "I. MongoDB:\n",
        "\n",
        "1. Зарегистрируйтесь в сервисе MongoDB Atlas: https://www.mongodb.com/atlas/database.\n",
        "1. Создайте кластер уровня M0 (это бесплатно).\n",
        "1. Добавьте в кластер тестовую базу данных `sample_mflix`, используя опцию Load Sample Dataset.\n",
        "\n",
        "В качестве альтернативы вы можете установить MongoDB на свой локальный компьютер и импортировать необходимые датасеты в свою СУБД, загрузив их по ссылке: https://github.com/neelabalan/mongodb-sample-dataset/tree/main/sample_mflix. Для этого подключитесь к своему серверу через Compass, создайте новую БД, создайте для каждого датасета коллекцию и щелкните «Add data» → «Import JSON or CSV file».\n",
        "\n",
        "II. MongoDB Compass — в качестве вспомогательного инструмента для конструирования запросов и агрегаций.\n",
        "\n",
        "III. Python и библиотека pymongo. Работа ведется в Jupyter Notebook или Google Colaboratory. Рекомендуется использовать версию Python 3.12."
      ]
    },
    {
      "cell_type": "markdown",
      "metadata": {
        "id": "xyG0RIatRiaQ"
      },
      "source": [
        "##Ожидаемые результаты\n",
        "\n",
        "Результаты работы необходимо оформить в виде ноутбука Jupyter. Можно загрузить файл в LMS либо поделиться ссылкой на Google Colaboratory."
      ]
    },
    {
      "cell_type": "markdown",
      "metadata": {
        "id": "O9MAw9odS5LD"
      },
      "source": [
        "##Место где нужно выполнить задание\n",
        "\n"
      ]
    },
    {
      "cell_type": "code",
      "execution_count": 2,
      "metadata": {
        "id": "ktBuEf5lTBnx"
      },
      "outputs": [],
      "source": [
        "#Начать выполнение задания тут"
      ]
    },
    {
      "cell_type": "code",
      "execution_count": 11,
      "metadata": {
        "colab": {
          "base_uri": "https://localhost:8080/"
        },
        "id": "hUzn3aDI2stL",
        "outputId": "ec83cccf-e339-4f3c-aefc-29d13c2d612c"
      },
      "outputs": [
        {
          "name": "stdout",
          "output_type": "stream",
          "text": [
            "['admin', 'bitfilmsdb', 'config', 'mestodb', 'moviesdb', 'sample_mflix']\n"
          ]
        }
      ],
      "source": [
        "import pymongo\n",
        "import pandas as pd\n",
        "import matplotlib.pyplot as plt\n",
        "\n",
        "client = pymongo.MongoClient(\"mongodb://localhost:27017/\")\n",
        "print(client.list_database_names())"
      ]
    },
    {
      "cell_type": "markdown",
      "metadata": {
        "id": "3hkkb3IAiJyx"
      },
      "source": [
        "### Упражнение 1. Запросы на выборку"
      ]
    },
    {
      "cell_type": "markdown",
      "metadata": {
        "id": "2t6Z-LgtiSwL"
      },
      "source": [
        "Цель этого упражнения — закрепить навык выполнения запросов на выборку. Все запросы выполняются на базе `sample_mflix` с данными о кинофильмах."
      ]
    },
    {
      "cell_type": "markdown",
      "metadata": {
        "id": "SZnDnHNo0sPv"
      },
      "source": [
        "#### Задача 1.1 — **1 балл**"
      ]
    },
    {
      "cell_type": "markdown",
      "metadata": {
        "id": "A_Y7zbHe0u1T"
      },
      "source": [
        "Выведите из коллекции `theaters` документы о кинотеатрах в городе Florence, штат KY.\n",
        "\n",
        "Для справки:\n",
        "\n",
        "* Обратите внимание на то, что информация об адресе кинотеатров хранится во вложенных документах. Для доступа к полям вложенных документов следует использовать точку: `родительский_документ.вложенный_документ.поле`.\n",
        "* В случае затруднений с написанием логического условия обращайтесь к сопоставлению синтаксиса SQL и Mongo: https://www.mongodb.com/docs/manual/reference/sql-comparison/.\n",
        "* Если вы предпочитаете сперва выполнять запросы в Compass, из этого приложения можно выгружать код готового запроса на Python (кнопка с символом `</>`)."
      ]
    },
    {
      "cell_type": "code",
      "execution_count": 4,
      "metadata": {
        "id": "_z2iic5S0zCk"
      },
      "outputs": [
        {
          "data": {
            "text/plain": [
              "[{'_id': ObjectId('59a47287cfa9a3a73e51e893'),\n",
              "  'theaterId': 161,\n",
              "  'location': {'address': {'street1': '100 Meijer Dr.',\n",
              "    'city': 'Florence',\n",
              "    'state': 'KY',\n",
              "    'zipcode': '41042'},\n",
              "   'geo': {'type': 'Point', 'coordinates': [-84.636383, 39.014843]}}},\n",
              " {'_id': ObjectId('59a47287cfa9a3a73e51ea02'),\n",
              "  'theaterId': 2823,\n",
              "  'location': {'address': {'street1': '2823 Florence Mall',\n",
              "    'street2': '#2148',\n",
              "    'city': 'Florence',\n",
              "    'state': 'KY',\n",
              "    'zipcode': '41042'},\n",
              "   'geo': {'type': 'Point', 'coordinates': [-84.6499595, 38.9967246]}}}]"
            ]
          },
          "execution_count": 4,
          "metadata": {},
          "output_type": "execute_result"
        }
      ],
      "source": [
        "# Ваш код здесь\n",
        "db = client['sample_mflix']\n",
        "collection = db['theaters']\n",
        "\n",
        "query = {\n",
        "    \"location.address.city\": \"Florence\",\n",
        "    \"location.address.state\": \"KY\"\n",
        "}\n",
        "\n",
        "results = collection.find(query)\n",
        "list(results)\n"
      ]
    },
    {
      "cell_type": "markdown",
      "metadata": {
        "id": "ZddwIpmPITB4"
      },
      "source": [
        "#### Задача 1.2 — **1 балл**"
      ]
    },
    {
      "cell_type": "markdown",
      "metadata": {
        "id": "n6hLPu2iODjH"
      },
      "source": [
        "Сделав запрос к коллекции `comments`, выведите _один_ комментарий (значение поля `text`) пользователя по имени Doreah."
      ]
    },
    {
      "cell_type": "code",
      "execution_count": 5,
      "metadata": {
        "id": "GXOz_fZCPFg_"
      },
      "outputs": [
        {
          "data": {
            "text/plain": [
              "'Porro explicabo cumque vitae sint quia quis. Consequuntur voluptatibus optio maxime ratione temporibus incidunt minus architecto.'"
            ]
          },
          "execution_count": 5,
          "metadata": {},
          "output_type": "execute_result"
        }
      ],
      "source": [
        "# Ваш код здесь\n",
        "collection = db['comments']\n",
        "query = {\"name\": \"Doreah\"}\n",
        "results = collection.find_one(query)\n",
        "\n",
        "results['text']"
      ]
    },
    {
      "cell_type": "markdown",
      "metadata": {
        "id": "tZEJx_DoXuDL"
      },
      "source": [
        "#### Задача 1.3 — **1 балл**"
      ]
    },
    {
      "cell_type": "markdown",
      "metadata": {
        "id": "h8k13yBRX0Uf"
      },
      "source": [
        "Сделав запрос к коллекции `movies`, выведите количество документов, в которых в качестве первого жанра фильма (поле `genres`) указано значение «Horror».\n",
        "\n",
        "Для справки:\n",
        "\n",
        "1. Обратите внимание, что поле `genres` представляет собой массив (индексация массивов начинается с нуля).\n",
        "1. При работе в MongoDB Shell для подсчета количества документов в курсоре можно использовать метод `count()`, однако он был удален в последних версиях библиотеки pymongo. В случае затруднений с использованием функций Mongo можно использовать для подсчета документов средства Python."
      ]
    },
    {
      "cell_type": "code",
      "execution_count": 6,
      "metadata": {
        "id": "3T6W4GVUX154"
      },
      "outputs": [
        {
          "name": "stdout",
          "output_type": "stream",
          "text": [
            "Количество фильмов с первым жанром 'Horror': 814\n"
          ]
        }
      ],
      "source": [
        "collection = db['movies']\n",
        "\n",
        "query = {\"genres.0\": \"Horror\"}\n",
        "count = collection.count_documents(query)\n",
        "\n",
        "print(f\"Количество фильмов с первым жанром 'Horror': {count}\")"
      ]
    },
    {
      "cell_type": "markdown",
      "metadata": {
        "id": "kTue_nh7TFUx"
      },
      "source": [
        "#### Задача 1.4 — **2 балла**"
      ]
    },
    {
      "cell_type": "markdown",
      "metadata": {
        "id": "kuIndgkLT9Tm"
      },
      "source": [
        "Выведите из коллекции `movies` документы о фильмах, которые в качестве первого жанра определены как «Film-Noir» либо «Horror» и были выпущены в период с 1940 по 1949 гг. (включительно)."
      ]
    },
    {
      "cell_type": "code",
      "execution_count": 7,
      "metadata": {
        "id": "hQwJj-fyTtQ1"
      },
      "outputs": [
        {
          "data": {
            "text/plain": [
              "[{'_id': ObjectId('573a1393f29313caabcdc814'),\n",
              "  'plot': \"An American man marries a Serbian immigrant who fears that she will turn into the cat person of her homeland's fables if they are intimate together.\",\n",
              "  'genres': ['Horror', 'Thriller'],\n",
              "  'runtime': 73,\n",
              "  'rated': 'APPROVED',\n",
              "  'cast': ['Simone Simon', 'Kent Smith', 'Tom Conway', 'Jane Randolph'],\n",
              "  'poster': 'https://m.media-amazon.com/images/M/MV5BNzI4YWY0NWQtNWI5YS00MGE4LWE4YTgtMzBmOWIwMzdiYTRiL2ltYWdlL2ltYWdlXkEyXkFqcGdeQXVyNjc1NTYyMjg@._V1_SY1000_SX677_AL_.jpg',\n",
              "  'title': 'Cat People',\n",
              "  'fullplot': 'Irena Dubrovna, a beautiful and mysterious Serbian-born fashion artist living in New York City, falls in love with and marries average-Joe American Oliver Reed. Their marriage suffers though, as Irena believes that she suffers from an ancient curse- whenever emotionally aroused, she will turn into a panther and kill. Oliver thinks that is absurd and childish, so he sends her to psychiatrist Dr. Judd to cure her. Easier said than done...',\n",
              "  'languages': ['English', 'Czech', 'Serbian'],\n",
              "  'released': datetime.datetime(1942, 12, 25, 0, 0),\n",
              "  'directors': ['Jacques Tourneur'],\n",
              "  'writers': ['DeWitt Bodeen'],\n",
              "  'awards': {'wins': 1, 'nominations': 2, 'text': '1 win & 2 nominations.'},\n",
              "  'lastupdated': '2015-08-21 00:53:54.453000000',\n",
              "  'year': 1942,\n",
              "  'imdb': {'rating': 7.4, 'votes': 11589, 'id': 34587},\n",
              "  'countries': ['USA'],\n",
              "  'type': 'movie',\n",
              "  'tomatoes': {'viewer': {'rating': 3.6, 'numReviews': 7115},\n",
              "   'critic': {'rating': 8.3, 'numReviews': 40, 'meter': 93},\n",
              "   'lastUpdated': datetime.datetime(2015, 9, 15, 17, 3, 25),\n",
              "   'consensus': 'Influential noir director Jacques Tourneau infused this sexy, moody horror film with some sly commentary about the psychology and the taboos of desire.',\n",
              "   'rotten': 3,\n",
              "   'production': 'RKO Pictures',\n",
              "   'fresh': 37}},\n",
              " {'_id': ObjectId('573a1393f29313caabcdcd9d'),\n",
              "  'plot': 'A young Canadian nurse (Betsy) comes to the West Indies to care for Jessica, the wife of a plantation manager (Paul Holland). Jessica seems to be suffering from a kind of mental paralysis ...',\n",
              "  'genres': ['Horror'],\n",
              "  'runtime': 69,\n",
              "  'rated': 'APPROVED',\n",
              "  'cast': ['James Ellison', 'Frances Dee', 'Tom Conway', 'Edith Barrett'],\n",
              "  'num_mflix_comments': 1,\n",
              "  'poster': 'https://m.media-amazon.com/images/M/MV5BZjQzMzliN2YtYTVhNC00Zjc4LThjMmYtMTE0ZGUzMWNmYzJlXkEyXkFqcGdeQXVyMTYxNjkxOQ@@._V1_SY1000_SX677_AL_.jpg',\n",
              "  'title': 'I Walked with a Zombie',\n",
              "  'fullplot': 'A young Canadian nurse (Betsy) comes to the West Indies to care for Jessica, the wife of a plantation manager (Paul Holland). Jessica seems to be suffering from a kind of mental paralysis as a result of fever. When she falls in love with Paul, Betsy determines to cure Jessica even if she needs to use a voodoo ceremony, to give Paul what she thinks he wants.',\n",
              "  'languages': ['English'],\n",
              "  'released': datetime.datetime(1943, 4, 30, 0, 0),\n",
              "  'directors': ['Jacques Tourneur'],\n",
              "  'writers': ['Curt Siodmak (screenplay)',\n",
              "   'Ardel Wray (screenplay)',\n",
              "   'Inez Wallace (original story)'],\n",
              "  'awards': {'wins': 0, 'nominations': 2, 'text': '2 nominations.'},\n",
              "  'lastupdated': '2015-08-16 00:16:16.823000000',\n",
              "  'year': 1943,\n",
              "  'imdb': {'rating': 7.3, 'votes': 6893, 'id': 36027},\n",
              "  'countries': ['USA'],\n",
              "  'type': 'movie',\n",
              "  'tomatoes': {'viewer': {'rating': 3.6, 'numReviews': 4884, 'meter': 75},\n",
              "   'dvd': datetime.datetime(2005, 10, 4, 0, 0),\n",
              "   'critic': {'rating': 8.1, 'numReviews': 26, 'meter': 92},\n",
              "   'lastUpdated': datetime.datetime(2015, 8, 26, 18, 16, 16),\n",
              "   'consensus': \"Evocative direction by Jacques Tourneur collides with the low-rent production values of exploitateer Val Lewton in I Walked with a Zombie, a sultry sleeper that's simultaneously smarmy, eloquent and fascinating.\",\n",
              "   'rotten': 2,\n",
              "   'production': 'Warner Home Video',\n",
              "   'fresh': 24}},\n",
              " {'_id': ObjectId('573a1393f29313caabcdcdf5'),\n",
              "  'plot': 'A seemingly tame leopard used for a publicity stunt escapes and kills a young girl, spreading panic throughout a sleepy new Mexico town.',\n",
              "  'genres': ['Horror', 'Thriller'],\n",
              "  'runtime': 66,\n",
              "  'rated': 'APPROVED',\n",
              "  'cast': [\"Dennis O'Keefe\", 'Margo', 'Jean Brooks', 'Isabel Jewell'],\n",
              "  'num_mflix_comments': 1,\n",
              "  'poster': 'https://m.media-amazon.com/images/M/MV5BYmU4ZDI5NGMtYzM1OC00YTQ3LWI1NTEtNGM0Mzc0ZDA5NzI4XkEyXkFqcGdeQXVyMTQxNzMzNDI@._V1_SY1000_SX677_AL_.jpg',\n",
              "  'title': 'The Leopard Man',\n",
              "  'fullplot': 'At the encouragement of her manager, a nightclub performer in New Mexico (Kiki Walker) takes a leashed leopard into the club as a publicity gimmick. But her rival, angered by the attempt to upstage, scares the animal and it bolts. In the days that follow, people are mauled and the countryside is combed for the loose creature. But Kiki and her manager begin to wonder if maybe the leopard is not responsible for the killings.',\n",
              "  'languages': ['English', 'Spanish'],\n",
              "  'released': datetime.datetime(1943, 5, 8, 0, 0),\n",
              "  'directors': ['Jacques Tourneur'],\n",
              "  'writers': ['Ardel Wray (screenplay)',\n",
              "   'Edward Dein (additional dialogue)',\n",
              "   'Cornell Woolrich (novel)'],\n",
              "  'awards': {'wins': 0, 'nominations': 2, 'text': '2 nominations.'},\n",
              "  'lastupdated': '2015-08-05 00:17:53.897000000',\n",
              "  'year': 1943,\n",
              "  'imdb': {'rating': 6.9, 'votes': 2889, 'id': 36104},\n",
              "  'countries': ['USA'],\n",
              "  'type': 'movie',\n",
              "  'tomatoes': {'viewer': {'rating': 3.5, 'numReviews': 1375, 'meter': 67},\n",
              "   'fresh': 15,\n",
              "   'critic': {'rating': 7.4, 'numReviews': 17, 'meter': 88},\n",
              "   'rotten': 2,\n",
              "   'lastUpdated': datetime.datetime(2015, 8, 27, 18, 6, 2)}},\n",
              " {'_id': ObjectId('573a1393f29313caabcdd38c'),\n",
              "  'plot': 'A ruthless doctor and his young prize student find themselves continually harassed by their murderous supplier of illegal cadavers.',\n",
              "  'genres': ['Horror', 'Thriller'],\n",
              "  'runtime': 77,\n",
              "  'rated': 'APPROVED',\n",
              "  'title': 'The Body Snatcher',\n",
              "  'num_mflix_comments': 1,\n",
              "  'poster': 'https://m.media-amazon.com/images/M/MV5BNzNmOTE0YTktZGZmYS00N2RhLWI5NTgtYTAyZjZhYWExMmRmXkEyXkFqcGdeQXVyMTQxNzMzNDI@._V1_SY1000_SX677_AL_.jpg',\n",
              "  'countries': ['USA'],\n",
              "  'fullplot': \"In Edinburgh in 1831, Dr. Wolfe MacFarlane runs a medical school where Donald Fettes is a student. Fettes is interested in helping a young girl who has lost the use of her legs. He is certain that MacFarlane's surgical skills could be put to great use but he is reluctant to do so. The good Dr. MacFarlane has a secret that soon becomes all too obvious to young Fettes, who has only recently been promoted as his assistant: he has been paying a local cabbie, John Gray, to supply him with dead bodies for anatomical research. Gray constantly harasses MacFarlane and clearly has a hold over him dating to a famous trial many years before where Gray refused to identify the man for whom he was robbing graves. Fettes isn't aware of any of this but soon realizes exactly how Gray obtains the bodies they use in their anatomy classes.\",\n",
              "  'languages': ['English'],\n",
              "  'cast': ['Boris Karloff', 'Bela Lugosi', 'Henry Daniell', 'Edith Atwater'],\n",
              "  'directors': ['Robert Wise'],\n",
              "  'writers': ['Robert Louis Stevenson (short story)',\n",
              "   'Philip MacDonald (written for the screen by)',\n",
              "   'Val Lewton (written for the screen by)'],\n",
              "  'awards': {'wins': 0, 'nominations': 3, 'text': '3 nominations.'},\n",
              "  'lastupdated': '2015-08-16 01:24:24.840000000',\n",
              "  'year': 1945,\n",
              "  'imdb': {'rating': 7.4, 'votes': 5509, 'id': 37549},\n",
              "  'type': 'movie',\n",
              "  'tomatoes': {'viewer': {'rating': 3.5, 'numReviews': 3664, 'meter': 75},\n",
              "   'critic': {'rating': 6.8, 'numReviews': 16, 'meter': 81},\n",
              "   'lastUpdated': datetime.datetime(2015, 8, 21, 19, 11, 47),\n",
              "   'rotten': 3,\n",
              "   'production': 'RKO Pictures',\n",
              "   'fresh': 13}},\n",
              " {'_id': ObjectId('573a1393f29313caabcdd3ed'),\n",
              "  'plot': 'An architect senses impending doom as his half-remembered recurring dream turns into reality. The guests at the country house encourage him to stay as they take turns telling supernatural tales.',\n",
              "  'genres': ['Horror'],\n",
              "  'runtime': 77,\n",
              "  'rated': 'APPROVED',\n",
              "  'cast': ['Mervyn Johns', 'Roland Culver', 'Mary Merrall', 'Googie Withers'],\n",
              "  'num_mflix_comments': 1,\n",
              "  'poster': 'https://m.media-amazon.com/images/M/MV5BYTY2OTJjZjgtMzExMy00MWJlLTg2N2ItM2NhMDQxNTNkNjFhXkEyXkFqcGdeQXVyMjI4MjA5MzA@._V1_SY1000_SX677_AL_.jpg',\n",
              "  'title': 'Dead of Night',\n",
              "  'fullplot': \"Architect Walter Craig, seeking the possibility of some work at a country farmhouse, soon finds himself once again stuck in his recurring nightmare. Dreading the end of the dream that he knows is coming, he must first listen to all the assembled guests' own bizarre tales.\",\n",
              "  'languages': ['English', 'French'],\n",
              "  'released': datetime.datetime(1945, 10, 15, 0, 0),\n",
              "  'directors': ['Alberto Cavalcanti',\n",
              "   'Charles Crichton',\n",
              "   'Basil Dearden',\n",
              "   'Robert Hamer'],\n",
              "  'writers': ['H.G. Wells (original story)',\n",
              "   'E.F. Benson (original story)',\n",
              "   'John Baines (original story)',\n",
              "   'Angus MacPhail (original story)',\n",
              "   'John Baines (screenplay)',\n",
              "   'Angus MacPhail (screenplay)',\n",
              "   'T.E.B. Clarke (additional dialogue)'],\n",
              "  'awards': {'wins': 1, 'nominations': 1, 'text': '1 win & 1 nomination.'},\n",
              "  'lastupdated': '2015-09-15 04:38:12.500000000',\n",
              "  'year': 1945,\n",
              "  'imdb': {'rating': 7.7, 'votes': 7116, 'id': 37635},\n",
              "  'countries': ['UK'],\n",
              "  'type': 'movie',\n",
              "  'tomatoes': {'viewer': {'rating': 4, 'numReviews': 3194, 'meter': 88},\n",
              "   'dvd': datetime.datetime(2009, 1, 27, 0, 0),\n",
              "   'critic': {'rating': 8, 'numReviews': 27, 'meter': 96},\n",
              "   'lastUpdated': datetime.datetime(2015, 7, 26, 18, 40, 43),\n",
              "   'consensus': 'With four accomplished directors contributing, Dead of Night is a classic horror anthology that remains highly influential.',\n",
              "   'rotten': 1,\n",
              "   'production': 'Universal Pictures',\n",
              "   'fresh': 26}},\n",
              " {'_id': ObjectId('573a1393f29313caabcdd5bc'),\n",
              "  'plot': 'A psychiatrist protects the identity of an amnesia patient accused of murder while attempting to recover his memory.',\n",
              "  'genres': ['Film-Noir', 'Mystery', 'Romance'],\n",
              "  'runtime': 111,\n",
              "  'rated': 'UNRATED',\n",
              "  'cast': ['Ingrid Bergman',\n",
              "   'Gregory Peck',\n",
              "   'Michael Chekhov',\n",
              "   'Leo G. Carroll'],\n",
              "  'num_mflix_comments': 2,\n",
              "  'poster': 'https://m.media-amazon.com/images/M/MV5BMTM2NDI5Nzg5Nl5BMl5BanBnXkFtZTcwNDk3NzI0NA@@._V1_SY1000_SX677_AL_.jpg',\n",
              "  'title': 'Spellbound',\n",
              "  'fullplot': 'The head of the Green Manors mental asylum Dr. Murchison is retiring to be replaced by Dr. Edwardes, a famous psychiatrist. Edwardes arrives and is immediately attracted to the beautiful but cold Dr. Constance Petersen. However, it soon becomes apparent that Dr. Edwardes is in fact a paranoid amnesiac impostor. He goes on the run with Constance who tries to help his condition and solve the mystery of what happened to the real Dr. Edwardes.',\n",
              "  'languages': ['English'],\n",
              "  'released': datetime.datetime(1945, 12, 28, 0, 0),\n",
              "  'directors': ['Alfred Hitchcock'],\n",
              "  'writers': ['Ben Hecht (screen play)',\n",
              "   'Frances Beeding (suggested by novel: \"The House of Dr. Edwardes\")',\n",
              "   'Angus MacPhail (adaptation)'],\n",
              "  'awards': {'wins': 2,\n",
              "   'nominations': 6,\n",
              "   'text': 'Won 1 Oscar. Another 1 win & 6 nominations.'},\n",
              "  'lastupdated': '2015-09-13 00:08:07.040000000',\n",
              "  'year': 1945,\n",
              "  'imdb': {'rating': 7.7, 'votes': 30640, 'id': 38109},\n",
              "  'countries': ['USA'],\n",
              "  'type': 'movie',\n",
              "  'tomatoes': {'viewer': {'rating': 3.8, 'numReviews': 16640, 'meter': 83},\n",
              "   'dvd': datetime.datetime(2001, 3, 13, 0, 0),\n",
              "   'critic': {'rating': 7.2, 'numReviews': 35, 'meter': 83},\n",
              "   'lastUpdated': datetime.datetime(2015, 8, 23, 19, 19, 48),\n",
              "   'rotten': 6,\n",
              "   'production': 'Twentieth Century Fox Home Entertainment',\n",
              "   'fresh': 29}},\n",
              " {'_id': ObjectId('573a1393f29313caabcdd6e7'),\n",
              "  'plot': \"Chuck Scott gets a job as chauffeur to tough guy Eddie Roman; but Chuck's involvement with Eddie's fearful wife becomes a nightmare.\",\n",
              "  'genres': ['Film-Noir'],\n",
              "  'runtime': 86,\n",
              "  'rated': 'APPROVED',\n",
              "  'cast': ['Robert Cummings',\n",
              "   'Michèle Morgan',\n",
              "   'Steve Cochran',\n",
              "   'Lloyd Corrigan'],\n",
              "  'num_mflix_comments': 1,\n",
              "  'poster': 'https://m.media-amazon.com/images/M/MV5BNDI3OTM4NzMtNzQxMC00M2YxLWFmOTctNmUyNDBmMzIwZGI0XkEyXkFqcGdeQXVyMjUxODE0MDY@._V1_SY1000_SX677_AL_.jpg',\n",
              "  'title': 'The Chase',\n",
              "  'fullplot': \"Returning a lost wallet gains unemployed veteran Chuck Scott a job as chauffeur to Eddie Roman, a seeming gangster whose enemies have a way of meeting violent ends. The job proves nerve-wracking, and soon Chuck finds himself pledged to help Eddie's lovely, fearful, prisoner-wife Lorna to escape. The result leaves Chuck caught like a rat in a trap, vainly seeking a way out through dark streets. But the real chase begins when the strange plot virtually starts all over again...\",\n",
              "  'languages': ['English', 'Spanish'],\n",
              "  'released': datetime.datetime(1946, 11, 16, 0, 0),\n",
              "  'directors': ['Arthur Ripley'],\n",
              "  'writers': ['Philip Yordan (written for the screen by)',\n",
              "   'Cornell Woolrich (book)'],\n",
              "  'awards': {'wins': 0, 'nominations': 1, 'text': '1 nomination.'},\n",
              "  'lastupdated': '2015-08-01 00:47:13.267000000',\n",
              "  'year': 1946,\n",
              "  'imdb': {'rating': 6.7, 'votes': 766, 'id': 38409},\n",
              "  'countries': ['USA'],\n",
              "  'type': 'movie',\n",
              "  'tomatoes': {'viewer': {'rating': 3.2, 'numReviews': 92, 'meter': 40},\n",
              "   'dvd': datetime.datetime(2003, 8, 5, 0, 0),\n",
              "   'production': 'VCI',\n",
              "   'lastUpdated': datetime.datetime(2015, 8, 20, 18, 14, 48)}},\n",
              " {'_id': ObjectId('573a1393f29313caabcde460'),\n",
              "  'plot': \"Over-the-hill boxer Bill 'Stoker' Thompson insists he can still win, though his sexy wife Julie pleads with him to quit. But his manager Tiny is so confident he will lose, he takes money ...\",\n",
              "  'genres': ['Film-Noir', 'Sport'],\n",
              "  'runtime': 73,\n",
              "  'rated': 'APPROVED',\n",
              "  'cast': ['Robert Ryan', 'Audrey Totter', 'George Tobias', 'Alan Baxter'],\n",
              "  'num_mflix_comments': 1,\n",
              "  'poster': 'https://m.media-amazon.com/images/M/MV5BMjEwNjU3NzE1Nl5BMl5BanBnXkFtZTgwMjQ0MDgyMTE@._V1_SY1000_SX677_AL_.jpg',\n",
              "  'title': 'The Set-Up',\n",
              "  'fullplot': 'Over-the-hill boxer Bill \\'Stoker\\' Thompson insists he can still win, though his sexy wife Julie pleads with him to quit. But his manager Tiny is so confident he will lose, he takes money for a \"dive\" from tough gambler Little Boy...without bothering to tell Stoker. Tension builds as Stoker hopes to \"take\" Tiger Nelson, unaware of what will happen to him if he does.',\n",
              "  'languages': ['English'],\n",
              "  'released': datetime.datetime(1949, 4, 2, 0, 0),\n",
              "  'directors': ['Robert Wise'],\n",
              "  'writers': ['Art Cohn (screenplay)',\n",
              "   'Joseph Moncure March (from the poem by)'],\n",
              "  'awards': {'wins': 3,\n",
              "   'nominations': 1,\n",
              "   'text': 'Nominated for 1 BAFTA Film Award. Another 2 wins & 1 nomination.'},\n",
              "  'lastupdated': '2015-08-26 00:13:18.837000000',\n",
              "  'year': 1949,\n",
              "  'imdb': {'rating': 7.8, 'votes': 5309, 'id': 41859},\n",
              "  'countries': ['USA'],\n",
              "  'type': 'movie',\n",
              "  'tomatoes': {'viewer': {'rating': 4, 'numReviews': 1692, 'meter': 88},\n",
              "   'dvd': datetime.datetime(2004, 7, 6, 0, 0),\n",
              "   'critic': {'rating': 5.9, 'numReviews': 7, 'meter': 86},\n",
              "   'lastUpdated': datetime.datetime(2015, 7, 26, 18, 33, 52),\n",
              "   'rotten': 1,\n",
              "   'fresh': 6}},\n",
              " {'_id': ObjectId('573a1393f29313caabcde4cb'),\n",
              "  'plot': 'Pulp novelist Holly Martins travels to shadowy, postwar Vienna, only to find himself investigating the mysterious death of an old friend, Harry Lime.',\n",
              "  'genres': ['Film-Noir', 'Mystery', 'Thriller'],\n",
              "  'runtime': 93,\n",
              "  'rated': 'NOT RATED',\n",
              "  'cast': ['Joseph Cotten', 'Alida Valli', 'Orson Welles', 'Trevor Howard'],\n",
              "  'poster': 'https://m.media-amazon.com/images/M/MV5BYjE2OTdhMWUtOGJlMy00ZDViLWIzZjgtYjZkZGZmMDZjYmEyXkEyXkFqcGdeQXVyNzkwMjQ5NzM@._V1_SY1000_SX677_AL_.jpg',\n",
              "  'title': 'The Third Man',\n",
              "  'fullplot': \"An out of work pulp fiction novelist, Holly Martins, arrives in a post war Vienna divided into sectors by the victorious allies, and where a shortage of supplies has lead to a flourishing black market. He arrives at the invitation of an ex-school friend, Harry Lime, who has offered him a job, only to discover that Lime has recently died in a peculiar traffic accident. From talking to Lime's friends and associates Martins soon notices that some of the stories are inconsistent, and determines to discover what really happened to Harry Lime.\",\n",
              "  'languages': ['English', 'German', 'Russian'],\n",
              "  'released': datetime.datetime(1949, 8, 31, 0, 0),\n",
              "  'directors': ['Carol Reed'],\n",
              "  'writers': ['Graham Greene (by)', 'Graham Greene (screen play)'],\n",
              "  'awards': {'wins': 5,\n",
              "   'nominations': 4,\n",
              "   'text': 'Won 1 Oscar. Another 4 wins & 4 nominations.'},\n",
              "  'lastupdated': '2015-09-05 00:01:22.347000000',\n",
              "  'year': 1949,\n",
              "  'imdb': {'rating': 8.3, 'votes': 102915, 'id': 41959},\n",
              "  'countries': ['UK'],\n",
              "  'type': 'movie',\n",
              "  'tomatoes': {'website': 'http://www.rialtopictures.com/thirdman',\n",
              "   'viewer': {'rating': 4.3, 'numReviews': 51770, 'meter': 94},\n",
              "   'dvd': datetime.datetime(1999, 11, 30, 0, 0),\n",
              "   'critic': {'rating': 9.3, 'numReviews': 76, 'meter': 100},\n",
              "   'boxOffice': '$0.4M',\n",
              "   'consensus': 'This atmospheric thriller is one of the undisputed masterpieces of cinema, and boasts iconic performances from Joseph Cotten and Orson Welles.',\n",
              "   'rotten': 0,\n",
              "   'production': 'Rialto Pictures',\n",
              "   'lastUpdated': datetime.datetime(2015, 9, 17, 17, 25, 35),\n",
              "   'fresh': 76}}]"
            ]
          },
          "execution_count": 7,
          "metadata": {},
          "output_type": "execute_result"
        }
      ],
      "source": [
        "# Ваш код здесь\n",
        "query = {\n",
        "    \"genres.0\": {\"$in\": [\"Film-Noir\", \"Horror\"]},\n",
        "    \"year\": {\"$gte\": 1940, \"$lte\": 1949}\n",
        "}\n",
        "\n",
        "results = collection.find(query)\n",
        "\n",
        "list(results)"
      ]
    },
    {
      "cell_type": "markdown",
      "metadata": {
        "id": "B56JNDs88fnh"
      },
      "source": [
        "#### Задача 1.5 — **1 балл**"
      ]
    },
    {
      "cell_type": "markdown",
      "metadata": {
        "id": "VvFx2iL98mTQ"
      },
      "source": [
        "Модифицируйте запрос из задачи 1.4 таким образом, чтобы осуществить _проекцию_: результатом выборки должен стать список словарей, каждый из которых содержит только два поля: `title` и `year`.\n",
        "\n",
        "Для справки о проекции см. документацию по методу `find()` в pymongo:\n",
        "https://pymongo.readthedocs.io/en/stable/api/pymongo/collection.html#pymongo.collection.Collection.find"
      ]
    },
    {
      "cell_type": "code",
      "execution_count": 8,
      "metadata": {
        "id": "tnkwb6HXY014"
      },
      "outputs": [
        {
          "name": "stdout",
          "output_type": "stream",
          "text": [
            "{'title': 'Cat People', 'year': 1942}\n",
            "{'title': 'I Walked with a Zombie', 'year': 1943}\n",
            "{'title': 'The Leopard Man', 'year': 1943}\n",
            "{'title': 'The Body Snatcher', 'year': 1945}\n",
            "{'title': 'Dead of Night', 'year': 1945}\n",
            "{'title': 'Spellbound', 'year': 1945}\n",
            "{'title': 'The Chase', 'year': 1946}\n",
            "{'title': 'The Set-Up', 'year': 1949}\n",
            "{'title': 'The Third Man', 'year': 1949}\n"
          ]
        }
      ],
      "source": [
        "# Ваш код здесь\n",
        "projection = {\"title\": 1, \"year\": 1, \"_id\": 0}\n",
        "\n",
        "results = collection.find(query, projection)\n",
        "\n",
        "movies_list = list(results)\n",
        "\n",
        "for movie in movies_list:\n",
        "    print(movie)\n",
        "\n"
      ]
    },
    {
      "cell_type": "markdown",
      "metadata": {
        "id": "tzx1nDQ08ojw"
      },
      "source": [
        "### Упражнение 2. Конвейер агрегации"
      ]
    },
    {
      "cell_type": "markdown",
      "metadata": {
        "id": "nx6axWfJbBbc"
      },
      "source": [
        "#### Задача 2.1 — **3 балла**"
      ]
    },
    {
      "cell_type": "markdown",
      "metadata": {
        "id": "oj1sBQtGbLNQ"
      },
      "source": [
        "В рамках этой задачи требуется узнать, какие фильмы получили наибольшее число комментариев. Составьте для этого конвейер агрегации с перечисленными ниже этапами. Для удобства рекомендуется воспользоваться приложением Compass.\n",
        "\n",
        "1. Сгруппировать документы коллекции `comments` по полю `movie_id` и подсчитать количество комментариев для каждого фильма, записав его в поле `count`.\n",
        "1. Отсортировать получившийся набор данных по убыванию количества комментариев (так чтобы первый документ в этом наборе указывал на фильм с наибольшим количеством комментариев).\n",
        "1. Используя оператор `$lookup`, присоединить коллекцию `movies` (по полю `movie_id`).\n",
        "1. Выполнить проекцию, оставив в наборе данных только три поля: название фильма (`title`), год выпуска (`year`) и количество комментариев (поле `count`, добавленное на первом этапе). Для этого воспользуйтесь оператором `$project`: https://www.mongodb.com/docs/manual/reference/operator/aggregation/project/. Обратите внимание, что данные из коллекции `movies` (`title` и `year`) на этом этапе окажутся внутри массива.\n",
        "1. Применить оператор `$unwind`, чтобы деконструировать этот массив. См. https://www.mongodb.com/docs/manual/reference/operator/aggregation/unwind/. В результате массив должен превратиться в одиночный объект.\n",
        "1. Применить оператор `$addFields`, чтобы добавить поля `title` и `year` на вернхий уровень структуры документа. См. https://www.mongodb.com/docs/manual/reference/operator/aggregation/addFields/.\n",
        "1. Еще раз выполнить проекцию, чтобы удалить поле с массивом.\n",
        "\n",
        "Ваш алгоритм решения может отличаться от приведенного здесь. Главное — достичь цели: получить плоский набор данных с тремя полями (`count` — количество комментариев, `year` — год выпуска, `title` — название фильма).\n",
        "\n",
        "Скопируйте полученный конвейер в этот документ в виде кода на Python и выведите его на экран в виде списка словарей."
      ]
    },
    {
      "cell_type": "code",
      "execution_count": 9,
      "metadata": {
        "id": "MSI2ITxZjMk2"
      },
      "outputs": [
        {
          "data": {
            "text/html": [
              "<div>\n",
              "<style scoped>\n",
              "    .dataframe tbody tr th:only-of-type {\n",
              "        vertical-align: middle;\n",
              "    }\n",
              "\n",
              "    .dataframe tbody tr th {\n",
              "        vertical-align: top;\n",
              "    }\n",
              "\n",
              "    .dataframe thead th {\n",
              "        text-align: right;\n",
              "    }\n",
              "</style>\n",
              "<table border=\"1\" class=\"dataframe\">\n",
              "  <thead>\n",
              "    <tr style=\"text-align: right;\">\n",
              "      <th></th>\n",
              "      <th>count</th>\n",
              "      <th>title</th>\n",
              "      <th>year</th>\n",
              "    </tr>\n",
              "  </thead>\n",
              "  <tbody>\n",
              "    <tr>\n",
              "      <th>0</th>\n",
              "      <td>161</td>\n",
              "      <td>The Taking of Pelham 1 2 3</td>\n",
              "      <td>2009</td>\n",
              "    </tr>\n",
              "    <tr>\n",
              "      <th>1</th>\n",
              "      <td>158</td>\n",
              "      <td>About a Boy</td>\n",
              "      <td>2002</td>\n",
              "    </tr>\n",
              "    <tr>\n",
              "      <th>2</th>\n",
              "      <td>158</td>\n",
              "      <td>Terminator Salvation</td>\n",
              "      <td>2009</td>\n",
              "    </tr>\n",
              "    <tr>\n",
              "      <th>3</th>\n",
              "      <td>158</td>\n",
              "      <td>Ocean's Eleven</td>\n",
              "      <td>2001</td>\n",
              "    </tr>\n",
              "    <tr>\n",
              "      <th>4</th>\n",
              "      <td>158</td>\n",
              "      <td>50 First Dates</td>\n",
              "      <td>2004</td>\n",
              "    </tr>\n",
              "    <tr>\n",
              "      <th>...</th>\n",
              "      <td>...</td>\n",
              "      <td>...</td>\n",
              "      <td>...</td>\n",
              "    </tr>\n",
              "    <tr>\n",
              "      <th>7444</th>\n",
              "      <td>1</td>\n",
              "      <td>This Is Where I Leave You</td>\n",
              "      <td>2014</td>\n",
              "    </tr>\n",
              "    <tr>\n",
              "      <th>7445</th>\n",
              "      <td>1</td>\n",
              "      <td>Being in the World</td>\n",
              "      <td>2010</td>\n",
              "    </tr>\n",
              "    <tr>\n",
              "      <th>7446</th>\n",
              "      <td>1</td>\n",
              "      <td>Rabbit</td>\n",
              "      <td>2005</td>\n",
              "    </tr>\n",
              "    <tr>\n",
              "      <th>7447</th>\n",
              "      <td>1</td>\n",
              "      <td>Cropsey</td>\n",
              "      <td>2009</td>\n",
              "    </tr>\n",
              "    <tr>\n",
              "      <th>7448</th>\n",
              "      <td>1</td>\n",
              "      <td>Thunder Rock</td>\n",
              "      <td>1942</td>\n",
              "    </tr>\n",
              "  </tbody>\n",
              "</table>\n",
              "<p>7449 rows × 3 columns</p>\n",
              "</div>"
            ],
            "text/plain": [
              "      count                       title  year\n",
              "0       161  The Taking of Pelham 1 2 3  2009\n",
              "1       158                 About a Boy  2002\n",
              "2       158        Terminator Salvation  2009\n",
              "3       158              Ocean's Eleven  2001\n",
              "4       158              50 First Dates  2004\n",
              "...     ...                         ...   ...\n",
              "7444      1   This Is Where I Leave You  2014\n",
              "7445      1          Being in the World  2010\n",
              "7446      1                      Rabbit  2005\n",
              "7447      1                     Cropsey  2009\n",
              "7448      1                Thunder Rock  1942\n",
              "\n",
              "[7449 rows x 3 columns]"
            ]
          },
          "execution_count": 9,
          "metadata": {},
          "output_type": "execute_result"
        }
      ],
      "source": [
        "collection = db['comments']\n",
        "\n",
        "pipeline = [{\n",
        "        '$group': {\n",
        "            '_id': '$movie_id', \n",
        "            'count': {\n",
        "                '$sum': 1\n",
        "            }\n",
        "        }\n",
        "    }, {\n",
        "        '$sort': {\n",
        "            'count': -1\n",
        "        }\n",
        "    }, {\n",
        "        '$lookup': {\n",
        "            'from': 'movies', \n",
        "            'localField': '_id', \n",
        "            'foreignField': '_id', \n",
        "            'as': 'movie'\n",
        "        }\n",
        "    }, {\n",
        "        '$unwind': '$movie'\n",
        "    }, {\n",
        "        '$project': {\n",
        "            '_id': 0,\n",
        "            'title': '$movie.title', \n",
        "            'year': '$movie.year', \n",
        "            'count': 1\n",
        "        }\n",
        "    }]\n",
        "result_list = list(collection.aggregate(pipeline))\n",
        "\n",
        "movies = pd.DataFrame(result_list)\n",
        "\n",
        "movies"
      ]
    },
    {
      "cell_type": "markdown",
      "metadata": {
        "id": "AFZpD6MVqVff"
      },
      "source": [
        "#### Задача 2.2 — **1 балл**"
      ]
    },
    {
      "cell_type": "markdown",
      "metadata": {
        "id": "fqF1_fs1qWvj"
      },
      "source": [
        "Используя данные, полученные в задаче 2.1, выведите на экран столбчатую диаграмму, показывающую топ-20 наиболее комментируемых фильмов. По оси ординат выведите названия этих фильмов (подписи разместите слева диаграммы), по оси абсцисс — количество комментариев.\n",
        "\n",
        "Для решения задачи можно использовать любую библиотеку, например Seaborn или Matplotlib."
      ]
    },
    {
      "cell_type": "code",
      "execution_count": null,
      "metadata": {
        "id": "J17JdNLymo5k"
      },
      "outputs": [
        {
          "data": {
            "image/png": "[encoded data removed]",
            "text/plain": [
              "<Figure size 1000x800 with 1 Axes>"
            ]
          },
          "metadata": {},
          "output_type": "display_data"
        }
      ],
      "source": [
        "# Ваш код здесь\n",
        "top_movies = movies.sort_values(by='count', ascending=False).head(20)\n",
        "\n",
        "plt.figure(figsize=(10, 8))\n",
        "plt.barh(top_movies['title'], top_movies['count'], color='skyblue')\n",
        "plt.xlabel('Количество комментариев')\n",
        "plt.ylabel('Название фильма')\n",
        "plt.title('Топ-20 наиболее комментируемых фильмов')\n",
        "plt.gca().invert_yaxis()\n",
        "plt.show()"
      ]
    }
  ],
  "metadata": {
    "colab": {
      "provenance": []
    },
    "kernelspec": {
      "display_name": "base",
      "language": "python",
      "name": "python3"
    },
    "language_info": {
      "codemirror_mode": {
        "name": "ipython",
        "version": 3
      },
      "file_extension": ".py",
      "mimetype": "text/x-python",
      "name": "python",
      "nbconvert_exporter": "python",
      "pygments_lexer": "ipython3",
      "version": "3.12.4"
    }
  },
  "nbformat": 4,
  "nbformat_minor": 0
}
