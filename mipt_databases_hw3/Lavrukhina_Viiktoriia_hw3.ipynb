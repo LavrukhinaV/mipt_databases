{
 "cells": [
  {
   "cell_type": "markdown",
   "metadata": {},
   "source": [
    "### **Задание 1.** Создать таблицы со следующими структурами и загрузить данные из csv-файлов. "
   ]
  },
  {
   "cell_type": "code",
   "execution_count": null,
   "metadata": {
    "vscode": {
     "languageId": "plaintext"
    }
   },
   "outputs": [],
   "source": [
    "CREATE TABLE transaction (\n",
    "    transaction_id INT,\n",
    "    product_id INT,\n",
    "    customer_id INT,\n",
    "    transaction_date VARCHAR(30),\n",
    "    online_order VARCHAR(30),\n",
    "    order_status VARCHAR(30),\n",
    "    brand VARCHAR(30),\n",
    "    product_line VARCHAR(30),\n",
    "    product_class VARCHAR(30),\n",
    "    product_size VARCHAR(30),\n",
    "    list_price DECIMAL(10, 2),\n",
    "    standard_cost DECIMAL(10, 2)\n",
    ");\n",
    "\n",
    "CREATE TABLE customer (\n",
    "    customer_id SERIAL PRIMARY KEY,\n",
    "    first_name VARCHAR(50),\n",
    "    last_name VARCHAR(50),\n",
    "    gender VARCHAR(30),\n",
    "    dob VARCHAR(50),\n",
    "    job_title VARCHAR(255),\n",
    "    job_industry_category VARCHAR(50),\n",
    "    wealth_segment VARCHAR(50),\n",
    "    deceased_indicator VARCHAR(50),\n",
    "    owns_car VARCHAR(30),\n",
    "    address VARCHAR(50),\n",
    "    postcode VARCHAR(30),\n",
    "    state VARCHAR(30),\n",
    "    country VARCHAR(30),\n",
    "    property_valuation INT\n",
    ");"
   ]
  },
  {
   "cell_type": "markdown",
   "metadata": {},
   "source": [
    "### **Задание 2.1** Вывести распределение (количество) клиентов по сферам деятельности, отсортировав результат по убыванию количества.\n"
   ]
  },
  {
   "cell_type": "code",
   "execution_count": null,
   "metadata": {
    "vscode": {
     "languageId": "plaintext"
    }
   },
   "outputs": [],
   "source": [
    "SELECT job_industry_category, COUNT(customer_id) AS customer_count\n",
    "FROM customer\n",
    "GROUP BY job_industry_category\n",
    "ORDER BY customer_count DESC;"
   ]
  },
  {
   "cell_type": "markdown",
   "metadata": {},
   "source": [
    "![2.1](./images/2.1.png)"
   ]
  },
  {
   "cell_type": "markdown",
   "metadata": {},
   "source": [
    "### **Задание 2.2** Найти сумму транзакций за каждый месяц по сферам деятельности, отсортировав по месяцам и по сфере деятельности."
   ]
  },
  {
   "cell_type": "code",
   "execution_count": null,
   "metadata": {
    "vscode": {
     "languageId": "plaintext"
    }
   },
   "outputs": [],
   "source": [
    "SELECT TO_CHAR(TO_DATE(t.transaction_date, 'YYYY-MM-DD'), 'YYYY-MM') AS transaction_month, c.job_industry_category, SUM(t.list_price) AS total_transaction_amount\n",
    "FROM transactions t\n",
    "JOIN customer c ON t.customer_id = c.customer_id\n",
    "GROUP BY transaction_month, c.job_industry_category\n",
    "ORDER BY transaction_month, c.job_industry_category;"
   ]
  },
  {
   "cell_type": "markdown",
   "metadata": {},
   "source": [
    "![2.2](./images/2.2.png)"
   ]
  },
  {
   "cell_type": "markdown",
   "metadata": {},
   "source": [
    "### **Задание 2.3** Вывести количество онлайн-заказов для всех брендов в рамках подтвержденных заказов клиентов из сферы IT."
   ]
  },
  {
   "cell_type": "code",
   "execution_count": null,
   "metadata": {
    "vscode": {
     "languageId": "plaintext"
    }
   },
   "outputs": [],
   "source": [
    "SELECT t.brand, COUNT(t.transaction_id) AS online_order_count\n",
    "FROM transaction t\n",
    "JOIN customer c ON t.customer_id = c.customer_id\n",
    "WHERE t.online_order = 'True' AND t.order_status = 'Approved' AND c.job_industry_category = 'IT'\n",
    "GROUP BY t.brand\n",
    "ORDER BY online_order_count DESC;"
   ]
  },
  {
   "cell_type": "markdown",
   "metadata": {},
   "source": [
    "![2.3](./images/2.3.png)"
   ]
  },
  {
   "cell_type": "markdown",
   "metadata": {},
   "source": [
    "### **Задание 2.4** Найти по всем клиентам сумму всех транзакций (list_price), максимум, минимум и количество транзакций, отсортировав результат по убыванию суммы транзакций и количества клиентов. Выполните двумя способами: используя только group by и используя только оконные функции. Сравните результат."
   ]
  },
  {
   "cell_type": "markdown",
   "metadata": {},
   "source": [
    "Первый способ - используем GROUP BY."
   ]
  },
  {
   "cell_type": "markdown",
   "metadata": {},
   "source": [
    "SELECT c.customer_id,\n",
    "      SUM(t.list_price) AS total_transaction_amount,\n",
    "      MAX(t.list_price) AS max_transaction_amount,\n",
    "      MIN(t.list_price) AS min_transaction_amount,\n",
    "      COUNT(t.transaction_id) AS transaction_count\n",
    "FROM transaction t\n",
    "JOIN customer c ON t.customer_id = c.customer_id\n",
    "GROUP BY c.customer_id\n",
    "ORDER BY total_transaction_amount DESC,\n",
    "        transaction_count DESC;"
   ]
  },
  {
   "cell_type": "markdown",
   "metadata": {},
   "source": [
    "![2.4.1](./images/2.4.1.png)"
   ]
  },
  {
   "cell_type": "markdown",
   "metadata": {},
   "source": [
    "Второй способ - используем оконные функции."
   ]
  },
  {
   "cell_type": "code",
   "execution_count": null,
   "metadata": {
    "vscode": {
     "languageId": "plaintext"
    }
   },
   "outputs": [],
   "source": [
    "SELECT DISTINCT c.customer_id,\n",
    "                SUM(t.list_price) OVER (PARTITION BY c.customer_id) AS total_transaction_amount,\n",
    "                MAX(t.list_price) OVER (PARTITION BY c.customer_id) AS max_transaction_amount,\n",
    "                MIN(t.list_price) OVER (PARTITION BY c.customer_id) AS min_transaction_amount,\n",
    "                COUNT(t.transaction_id) OVER (PARTITION BY c.customer_id) AS transaction_count\n",
    "FROM transaction t\n",
    "JOIN customer c ON t.customer_id = c.customer_id\n",
    "ORDER BY total_transaction_amount DESC, \n",
    "      tranaction_count DESC;"
   ]
  },
  {
   "cell_type": "markdown",
   "metadata": {},
   "source": [
    "![2.4.2](./images/2.4.2.png)"
   ]
  },
  {
   "cell_type": "markdown",
   "metadata": {},
   "source": [
    "### **Задание 2.5** Найти имена и фамилии клиентов с минимальной/максимальной суммой транзакций за весь период (сумма транзакций не может быть null). Напишите отдельные запросы для минимальной и максимальной суммы.."
   ]
  },
  {
   "cell_type": "markdown",
   "metadata": {},
   "source": [
    "CTE для вычисления суммы транзакций для каждого клиента."
   ]
  },
  {
   "cell_type": "code",
   "execution_count": null,
   "metadata": {
    "vscode": {
     "languageId": "plaintext"
    }
   },
   "outputs": [],
   "source": [
    "WITH customer_transaction_totals AS (\n",
    "    SELECT \n",
    "        c.customer_id,\n",
    "        c.first_name,\n",
    "        c.last_name,\n",
    "        SUM(t.list_price) AS total_transaction_amount\n",
    "    FROM \n",
    "        transaction t\n",
    "    JOIN \n",
    "        customer c ON t.customer_id = c.customer_id\n",
    "    GROUP BY \n",
    "        c.customer_id, c.first_name, c.last_name\n",
    "    HAVING \n",
    "        SUM(t.list_price) IS NOT NULL\n",
    ")"
   ]
  },
  {
   "cell_type": "markdown",
   "metadata": {},
   "source": [
    "Поиск клиента с минимальной суммой транзакций за весь период:"
   ]
  },
  {
   "cell_type": "code",
   "execution_count": null,
   "metadata": {
    "vscode": {
     "languageId": "plaintext"
    }
   },
   "outputs": [],
   "source": [
    "SELECT\n",
    "      first_name,\n",
    "      last_name,\n",
    "      total_transaction_amount\n",
    "FROM customer_transaction_totals\n",
    "WHERE\n",
    "      total_transaction_amount = (\n",
    "        SELECT MIN(total_transaction_amount) \n",
    "        FROM customer_transaction_totals\n",
    "      );"
   ]
  },
  {
   "cell_type": "markdown",
   "metadata": {},
   "source": [
    "![2.5.1](./images/2.5.1.png)"
   ]
  },
  {
   "cell_type": "markdown",
   "metadata": {},
   "source": [
    "Поиск клиента с максимальной суммой транзакций за весь период"
   ]
  },
  {
   "cell_type": "code",
   "execution_count": null,
   "metadata": {
    "vscode": {
     "languageId": "plaintext"
    }
   },
   "outputs": [],
   "source": [
    "SELECT\n",
    "      first_name,\n",
    "      last_name,\n",
    "      total_transaction_amount\n",
    "FROM customer_transaction_totals\n",
    "WHERE\n",
    "      total_transaction_amount = (\n",
    "        SELECT MAX(total_transaction_amount) \n",
    "        FROM customer_transaction_totals\n",
    "      );"
   ]
  },
  {
   "cell_type": "markdown",
   "metadata": {},
   "source": [
    "![2.5.2](./images/2.5.2.png)"
   ]
  },
  {
   "cell_type": "markdown",
   "metadata": {},
   "source": [
    "### **Задание 2.6** Вывести только самые первые транзакции клиентов. Решить с помощью оконных функций."
   ]
  },
  {
   "cell_type": "code",
   "execution_count": null,
   "metadata": {
    "vscode": {
     "languageId": "plaintext"
    }
   },
   "outputs": [],
   "source": [
    "WITH ranked_transactions AS (\n",
    "    SELECT\n",
    "          customer_id,\n",
    "          transaction_id,\n",
    "          transaction_date,\n",
    "          list_price AS transaction_amount,\n",
    "          ROW_NUMBER() OVER (PARTITION BY customer_id ORDER BY transaction_date) AS transaction_rank\n",
    "    FROM transaction\n",
    ")\n",
    "SELECT\n",
    "      customer_id,\n",
    "      transaction_id,\n",
    "      transaction_date AS first_transaction_date,\n",
    "      transaction_amount AS first_transaction_amount\n",
    "FROM ranked_transactions\n",
    "WHERE transaction_rank = 1\n",
    "ORDER BY customer_id;"
   ]
  },
  {
   "cell_type": "markdown",
   "metadata": {},
   "source": [
    "![2.6](./images/2.6.png)"
   ]
  },
  {
   "cell_type": "markdown",
   "metadata": {},
   "source": [
    "### **Задание 2.7** Вывести имена, фамилии и профессии клиентов, между транзакциями которых был максимальный интервал (интервал вычисляется в днях)."
   ]
  },
  {
   "cell_type": "code",
   "execution_count": null,
   "metadata": {
    "vscode": {
     "languageId": "plaintext"
    }
   },
   "outputs": [],
   "source": [
    "WITH tx_dates AS (\n",
    "    SELECT\n",
    "        customer_id,\n",
    "        to_date(transaction_date, 'DD.MM.YYYY') AS tx_date\n",
    "    FROM transaction\n",
    "),\n",
    "tx_intervals AS (\n",
    "    SELECT\n",
    "        customer_id,\n",
    "        tx_date,\n",
    "        LAG(tx_date) OVER (PARTITION BY customer_id ORDER BY tx_date) AS prev_tx_date,\n",
    "        tx_date - LAG(tx_date) OVER (PARTITION BY customer_id ORDER BY tx_date) AS interval_days\n",
    "    FROM tx_dates\n",
    "),\n",
    "max_intervals AS (\n",
    "    SELECT\n",
    "        customer_id,\n",
    "        MAX(interval_days) AS max_interval\n",
    "    FROM tx_intervals\n",
    "    WHERE interval_days IS NOT NULL\n",
    "    GROUP BY customer_id\n",
    ")\n",
    "SELECT\n",
    "    c.first_name,\n",
    "    c.last_name,\n",
    "    c.job_title,\n",
    "    mx.max_interval\n",
    "FROM customer c\n",
    "INNER JOIN max_intervals mx ON mx.customer_id = c.customer_id\n",
    "WHERE mx.max_interval = (SELECT MAX(max_interval) FROM max_intervals);\n"
   ]
  },
  {
   "cell_type": "markdown",
   "metadata": {},
   "source": [
    "![2.7](./images/2.7.png)"
   ]
  }
 ],
 "metadata": {
  "language_info": {
   "name": "python"
  }
 },
 "nbformat": 4,
 "nbformat_minor": 2
}
