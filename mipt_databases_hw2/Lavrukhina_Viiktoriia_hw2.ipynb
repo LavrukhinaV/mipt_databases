{
 "cells": [
  {
   "cell_type": "markdown",
   "metadata": {},
   "source": [
    "### **Задание 1.** Создать таблицы со следующими структурами и загрузить данные из csv-файлов. "
   ]
  },
  {
   "cell_type": "code",
   "execution_count": null,
   "metadata": {
    "vscode": {
     "languageId": "plaintext"
    }
   },
   "outputs": [],
   "source": [
    "CREATE TABLE transactions (\n",
    "    transaction_id INT,\n",
    "    product_id INT,\n",
    "    customer_id INT,\n",
    "    transaction_date DATE,\n",
    "    online_order BOOLEAN,\n",
    "    order_status VARCHAR(50),\n",
    "    brand VARCHAR(50),\n",
    "    product_line VARCHAR(50),\n",
    "    product_class VARCHAR(50),\n",
    "    product_size VARCHAR(50),\n",
    "    list_price DECIMAL(10, 2),\n",
    "    standard_cost DECIMAL(10, 2)\n",
    ");\n",
    "\n",
    "CREATE TABLE customer (\n",
    "    customer_id SERIAL PRIMARY KEY,\n",
    "    first_name VARCHAR(100) NOT NULL,\n",
    "    last_name VARCHAR(100) NOT NULL,\n",
    "    gender VARCHAR(10) CHECK (gender IN ('Male', 'Femal', 'Female', 'M', 'F', 'U')),\n",
    "    DOB DATE,\n",
    "    job_title VARCHAR(255),\n",
    "    job_industry_category VARCHAR(255),\n",
    "    wealth_segment VARCHAR(50),\n",
    "    deceased_indicator CHAR(1) CHECK (deceased_indicator IN ('Y', 'N')),\n",
    "    owns_car CHAR(3) CHECK (owns_car IN ('Yes', 'No')),\n",
    "    address TEXT,\n",
    "    postcode INT,\n",
    "    state VARCHAR(100),\n",
    "    country VARCHAR(100),\n",
    "    property_valuation INT\n",
    ");"
   ]
  },
  {
   "cell_type": "markdown",
   "metadata": {},
   "source": [
    "### **Задание 2.1** Вывести все уникальные бренды, у которых стандартная стоимость выше 1500 долларов.\n"
   ]
  },
  {
   "cell_type": "code",
   "execution_count": null,
   "metadata": {
    "vscode": {
     "languageId": "plaintext"
    }
   },
   "outputs": [],
   "source": [
    "SELECT DISTINCT brand\n",
    "FROM transaction\n",
    "WHERE standard_cost > 1500"
   ]
  },
  {
   "cell_type": "markdown",
   "metadata": {},
   "source": [
    "![2.1](./images/2.1.png)"
   ]
  },
  {
   "cell_type": "markdown",
   "metadata": {},
   "source": [
    "### **Задание 2.2** Вывести все подтвержденные транзакции за период '2017-04-01' по '2017-04-09' включительно."
   ]
  },
  {
   "cell_type": "code",
   "execution_count": null,
   "metadata": {
    "vscode": {
     "languageId": "plaintext"
    }
   },
   "outputs": [],
   "source": [
    "SELECT *\n",
    "FROM transaction\n",
    "WHERE order_status = 'Approved' and transaction_date between '2017-04-01' and '2017-04-09'"
   ]
  },
  {
   "cell_type": "markdown",
   "metadata": {},
   "source": [
    "![2.2.1](./images/2.2.1.png)"
   ]
  },
  {
   "cell_type": "code",
   "execution_count": null,
   "metadata": {
    "vscode": {
     "languageId": "plaintext"
    }
   },
   "outputs": [],
   "source": [
    "SELECT count(*)\n",
    "FROM transaction\n",
    "WHERE order_status = 'Approved' and transaction_date between '2017-04-01' and '2017-04-09'"
   ]
  },
  {
   "cell_type": "markdown",
   "metadata": {},
   "source": [
    "![2.2.2](./images/2.2.2.png)"
   ]
  },
  {
   "cell_type": "markdown",
   "metadata": {},
   "source": [
    "### **Задание 2.3** Вывести все профессии у клиентов из сферы IT или Financial Services, которые начинаются с фразы 'Senior'."
   ]
  },
  {
   "cell_type": "code",
   "execution_count": null,
   "metadata": {
    "vscode": {
     "languageId": "plaintext"
    }
   },
   "outputs": [],
   "source": [
    "SELECT DISTINCT job_title  \n",
    "FROM customer  \n",
    "WHERE job_industry_category IN ('IT', 'Financial Services')  \n",
    "AND job_title LIKE 'Senior%'"
   ]
  },
  {
   "cell_type": "markdown",
   "metadata": {},
   "source": [
    "![2.4](./images/2.3.png)"
   ]
  },
  {
   "cell_type": "markdown",
   "metadata": {},
   "source": [
    "### **Задание 2.4** Вывести все бренды, которые закупают клиенты, работающие в сфере Financial Services."
   ]
  },
  {
   "cell_type": "markdown",
   "metadata": {},
   "source": [
    "SELECT DISTINCT transaction.brand\n",
    "FROM transaction\n",
    "JOIN customer ON transaction.customer_id = customer.customer_id\n",
    "WHERE customer.job_industry_category = 'Financial Services'"
   ]
  },
  {
   "cell_type": "markdown",
   "metadata": {},
   "source": [
    "![2.4](./images/2.4.png)"
   ]
  },
  {
   "cell_type": "markdown",
   "metadata": {},
   "source": [
    "### **Задание 2.5** Вывести 10 клиентов, которые оформили онлайн-заказ продукции из брендов 'Giant Bicycles', 'Norco Bicycles', 'Trek Bicycles'."
   ]
  },
  {
   "cell_type": "code",
   "execution_count": null,
   "metadata": {
    "vscode": {
     "languageId": "plaintext"
    }
   },
   "outputs": [],
   "source": [
    " SELECT DISTINCT customer.customer_id , customer.first_name, customer.last_name\n",
    " FROM customer\n",
    " JOIN transaction ON customer.customer_id = transaction.customer_id\n",
    " WHERE transaction.online_order = true AND transaction.brand IN ('Giant Bicycles', 'Norco Bicycles', 'Trek Bicycles')\n",
    " LIMIT 10"
   ]
  },
  {
   "cell_type": "markdown",
   "metadata": {},
   "source": [
    "![2.5](./images/2.5.png)"
   ]
  },
  {
   "cell_type": "markdown",
   "metadata": {},
   "source": [
    "### **Задание 2.6** Вывести всех клиентов, у которых нет транзакций."
   ]
  },
  {
   "cell_type": "code",
   "execution_count": null,
   "metadata": {
    "vscode": {
     "languageId": "plaintext"
    }
   },
   "outputs": [],
   "source": [
    " SELECT customer.customer_id , customer.first_name, customer.last_name, transaction.transaction_id\n",
    " FROM customer\n",
    " LEFT JOIN transaction ON customer.customer_id = transaction.customer_id\n",
    " WHERE transaction.transaction_id IS NULL"
   ]
  },
  {
   "cell_type": "markdown",
   "metadata": {},
   "source": [
    "![2.6.1](./images/2.6.1.png)"
   ]
  },
  {
   "cell_type": "code",
   "execution_count": null,
   "metadata": {
    "vscode": {
     "languageId": "plaintext"
    }
   },
   "outputs": [],
   "source": [
    " SELECT count(*)\n",
    " FROM customer\n",
    " LEFT JOIN transaction ON customer.customer_id = transaction.customer_id\n",
    " WHERE transaction.transaction_id IS NULL"
   ]
  },
  {
   "cell_type": "markdown",
   "metadata": {},
   "source": [
    "![2.6.2](./images/2.6.2.png)"
   ]
  },
  {
   "cell_type": "markdown",
   "metadata": {},
   "source": [
    "### **Задание 2.7** Вывести всех клиентов из IT, у которых транзакции с максимальной стандартной стоимостью."
   ]
  },
  {
   "cell_type": "code",
   "execution_count": null,
   "metadata": {
    "vscode": {
     "languageId": "plaintext"
    }
   },
   "outputs": [],
   "source": [
    "WITH max_cost AS (\n",
    "        SELECT MAX(standard_cost) AS max_standard_cost\n",
    "        FROM transaction\n",
    "    )\n",
    "    SELECT DISTINCT customer.customer_id, customer.first_name, customer.last_name\n",
    "    FROM customer\n",
    "    JOIN transaction ON customer.customer_id = transaction.customer_id\n",
    "    JOIN max_cost ON transaction.standard_cost = max_cost.max_standard_cost\n",
    "    WHERE customer.job_industry_category = 'IT'"
   ]
  },
  {
   "cell_type": "markdown",
   "metadata": {},
   "source": [
    "![2.7](./images/2.7.png)"
   ]
  },
  {
   "cell_type": "markdown",
   "metadata": {},
   "source": [
    "### **Задание 2.8** Вывести всех клиентов из сферы IT и Health, у которых есть подтвержденные транзакции за период '2017-07-07' по '2017-07-17'."
   ]
  },
  {
   "cell_type": "code",
   "execution_count": null,
   "metadata": {
    "vscode": {
     "languageId": "plaintext"
    }
   },
   "outputs": [],
   "source": [
    "SELECT DISTINCT customer.customer_id, customer.first_name, customer.last_name\n",
    "FROM customer\n",
    "LEFT JOIN transaction ON customer.customer_id = transaction.customer_id\n",
    "WHERE customer.job_industry_category IN ('IT', 'Health')\n",
    "  AND transaction.order_status = 'Approved'\n",
    "  AND transaction.transaction_date BETWEEN '2017-07-07' AND '2017-07-17'"
   ]
  },
  {
   "cell_type": "markdown",
   "metadata": {},
   "source": [
    "![2.8.1](./images/2.8.1.png)"
   ]
  },
  {
   "cell_type": "code",
   "execution_count": null,
   "metadata": {
    "vscode": {
     "languageId": "plaintext"
    }
   },
   "outputs": [],
   "source": [
    "SELECT count(DISTINCT customer.customer_id)\n",
    "FROM customer\n",
    "left JOIN transaction ON customer.customer_id = transaction.customer_id\n",
    "WHERE customer.job_industry_category IN ('IT', 'Health')\n",
    "  AND transaction.order_status = 'Approved'\n",
    "  AND transaction.transaction_date BETWEEN '2017-07-07' AND '2017-07-17'"
   ]
  },
  {
   "cell_type": "markdown",
   "metadata": {},
   "source": [
    "![2.8.2](./images/2.8.2.png)"
   ]
  }
 ],
 "metadata": {
  "language_info": {
   "name": "python"
  }
 },
 "nbformat": 4,
 "nbformat_minor": 2
}
